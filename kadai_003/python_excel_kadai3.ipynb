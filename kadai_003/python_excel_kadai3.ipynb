{
  "nbformat": 4,
  "nbformat_minor": 0,
  "metadata": {
    "colab": {
      "provenance": []
    },
    "kernelspec": {
      "name": "python3",
      "display_name": "Python 3"
    },
    "language_info": {
      "name": "python"
    }
  },
  "cells": [
    {
      "cell_type": "code",
      "execution_count": 1,
      "metadata": {
        "colab": {
          "base_uri": "https://localhost:8080/"
        },
        "id": "mv8UyfqnP3ky",
        "outputId": "1b48a16d-4636-4298-a371-3300fa0f598f"
      },
      "outputs": [
        {
          "output_type": "stream",
          "name": "stdout",
          "text": [
            "Collecting numpy==1.24.4\n",
            "  Downloading numpy-1.24.4.tar.gz (10.9 MB)\n",
            "\u001b[2K     \u001b[90m━━━━━━━━━━━━━━━━━━━━━━━━━━━━━━━━━━━━━━━━\u001b[0m \u001b[32m10.9/10.9 MB\u001b[0m \u001b[31m75.2 MB/s\u001b[0m eta \u001b[36m0:00:00\u001b[0m\n",
            "\u001b[?25h  Installing build dependencies ... \u001b[?25l\u001b[?25hdone\n",
            "  \u001b[1;31merror\u001b[0m: \u001b[1msubprocess-exited-with-error\u001b[0m\n",
            "  \n",
            "  \u001b[31m×\u001b[0m \u001b[32mGetting requirements to build wheel\u001b[0m did not run successfully.\n",
            "  \u001b[31m│\u001b[0m exit code: \u001b[1;36m1\u001b[0m\n",
            "  \u001b[31m╰─>\u001b[0m See above for output.\n",
            "  \n",
            "  \u001b[1;35mnote\u001b[0m: This error originates from a subprocess, and is likely not a problem with pip.\n",
            "  Getting requirements to build wheel ... \u001b[?25l\u001b[?25herror\n",
            "\u001b[1;31merror\u001b[0m: \u001b[1msubprocess-exited-with-error\u001b[0m\n",
            "\n",
            "\u001b[31m×\u001b[0m \u001b[32mGetting requirements to build wheel\u001b[0m did not run successfully.\n",
            "\u001b[31m│\u001b[0m exit code: \u001b[1;36m1\u001b[0m\n",
            "\u001b[31m╰─>\u001b[0m See above for output.\n",
            "\n",
            "\u001b[1;35mnote\u001b[0m: This error originates from a subprocess, and is likely not a problem with pip.\n"
          ]
        }
      ],
      "source": [
        "!pip install numpy==1.24.4 pandas==1.5.3 openpyxl==3.0.10"
      ]
    },
    {
      "cell_type": "code",
      "source": [
        "import pandas as pd\n",
        "from openpyxl import load_workbook\n",
        "from openpyxl.styles import Font, Alignment, PatternFill\n",
        "from openpyxl.utils import get_column_letter\n",
        "import unicodedata\n",
        "\n",
        "\n",
        "# ExcelファイルをDataFrameに読み込む\n",
        "df_2022 = pd.read_excel(\"2022_年間売上表.xlsx\", sheet_name=0)\n",
        "df_2023 = pd.read_excel(\"2023_年間売上表.xlsx\", sheet_name=0)\n",
        "\n",
        "# データフレームを縦結合\n",
        "df_all = pd.concat([df_2022, df_2023], ignore_index=True)\n",
        "\n",
        "#「商品」「売上年」ごとに合計\n",
        "df_sum = df_all.groupby([\"商品\", \"売上年\"], as_index=False)[\"金額（千円）\"].sum()\n",
        "\n",
        "# 集計結果をExcelに書き込み\n",
        "out_file = \"売上集計表.xlsx\"\n",
        "df_sum.to_excel(out_file, index=False, sheet_name=\"売上集計\")\n",
        "\n",
        "# openpyxlで表の体裁整備\n",
        "wb = load_workbook(out_file)\n",
        "ws = wb[\"売上集計\"]\n",
        "\n",
        "# (1) ヘッダー行を太字・中央揃え,背景色（薄いグレー #F2F2F2）\n",
        "header_fill = PatternFill(fill_type=\"solid\", start_color=\"F2F2F2\", end_color=\"F2F2F2\")\n",
        "header_font = Font(bold=True)\n",
        "header_align = Alignment(horizontal=\"center\", vertical=\"center\")\n",
        "\n",
        "for cell in ws[1]:\n",
        "    cell.fill = header_fill\n",
        "    cell.font = header_font\n",
        "    cell.alignment = header_align\n",
        "\n",
        "# 列幅を自動調整（全角文字は2文字分としてカウント）\n",
        "def get_display_width(text):\n",
        "    \"\"\"文字列の表示幅（全角＝2、半角＝1）を返す\"\"\"\n",
        "    width = 0\n",
        "    for ch in str(text):\n",
        "        if unicodedata.east_asian_width(ch) in [\"F\", \"W\", \"A\"]:\n",
        "            width += 2\n",
        "        else:\n",
        "            width += 1\n",
        "    return width\n",
        "\n",
        "for col in ws.columns:\n",
        "    max_length = 0\n",
        "    col_letter = get_column_letter(col[0].column)\n",
        "    for cell in col:\n",
        "        if cell.value is not None:\n",
        "            max_length = max(max_length, get_display_width(cell.value))\n",
        "    ws.column_dimensions[col_letter].width = max_length + 2  # 少し余裕を足す\n",
        "\n",
        "# 保存\n",
        "wb.save(out_file)"
      ],
      "metadata": {
        "id": "A6B2E1HaR3GZ"
      },
      "execution_count": 9,
      "outputs": []
    }
  ]
}