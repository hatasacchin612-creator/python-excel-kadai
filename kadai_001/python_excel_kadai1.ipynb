{
  "nbformat": 4,
  "nbformat_minor": 0,
  "metadata": {
    "colab": {
      "provenance": []
    },
    "kernelspec": {
      "name": "python3",
      "display_name": "Python 3"
    },
    "language_info": {
      "name": "python"
    }
  },
  "cells": [
    {
      "cell_type": "code",
      "execution_count": 1,
      "metadata": {
        "colab": {
          "base_uri": "https://localhost:8080/"
        },
        "id": "nGJxIUHItJ9K",
        "outputId": "20dfca9a-7de1-4157-fa89-9c01f79dc988"
      },
      "outputs": [
        {
          "output_type": "stream",
          "name": "stdout",
          "text": [
            "Collecting numpy==1.24.4\n",
            "  Downloading numpy-1.24.4.tar.gz (10.9 MB)\n",
            "\u001b[2K     \u001b[90m━━━━━━━━━━━━━━━━━━━━━━━━━━━━━━━━━━━━━━━━\u001b[0m \u001b[32m10.9/10.9 MB\u001b[0m \u001b[31m49.0 MB/s\u001b[0m eta \u001b[36m0:00:00\u001b[0m\n",
            "\u001b[?25h  Installing build dependencies ... \u001b[?25l\u001b[?25hdone\n",
            "  \u001b[1;31merror\u001b[0m: \u001b[1msubprocess-exited-with-error\u001b[0m\n",
            "  \n",
            "  \u001b[31m×\u001b[0m \u001b[32mGetting requirements to build wheel\u001b[0m did not run successfully.\n",
            "  \u001b[31m│\u001b[0m exit code: \u001b[1;36m1\u001b[0m\n",
            "  \u001b[31m╰─>\u001b[0m See above for output.\n",
            "  \n",
            "  \u001b[1;35mnote\u001b[0m: This error originates from a subprocess, and is likely not a problem with pip.\n",
            "  Getting requirements to build wheel ... \u001b[?25l\u001b[?25herror\n",
            "\u001b[1;31merror\u001b[0m: \u001b[1msubprocess-exited-with-error\u001b[0m\n",
            "\n",
            "\u001b[31m×\u001b[0m \u001b[32mGetting requirements to build wheel\u001b[0m did not run successfully.\n",
            "\u001b[31m│\u001b[0m exit code: \u001b[1;36m1\u001b[0m\n",
            "\u001b[31m╰─>\u001b[0m See above for output.\n",
            "\n",
            "\u001b[1;35mnote\u001b[0m: This error originates from a subprocess, and is likely not a problem with pip.\n"
          ]
        }
      ],
      "source": [
        "!pip install numpy==1.24.4 pandas==1.5.3 openpyxl==3.0.10"
      ]
    },
    {
      "cell_type": "code",
      "source": [
        "from openpyxl import Workbook\n",
        "from openpyxl.styles import Font, Alignment, Border, Side\n",
        "from datetime import datetime\n",
        "\n",
        "# 1) 新しいExcelファイルを作成\n",
        "workbook = Workbook()\n",
        "worksheet = workbook.active\n",
        "worksheet.title = \"請求書\"\n",
        "\n",
        "\n",
        "# 2) 請求書タイトル\n",
        "worksheet[\"B2\"] = \"請求書\"\n",
        "\n",
        "# 3) 請求先情報（左側）\n",
        "worksheet.merge_cells(\"B4:C4\")\n",
        "worksheet[\"B4\"] = \"株式会社ABC\"\n",
        "\n",
        "worksheet.merge_cells(\"B5:E5\")\n",
        "worksheet[\"B5\"] = \"〒101-0022 東京都千代田区神田練塀町300\"\n",
        "\n",
        "worksheet.merge_cells(\"B6:E6\")\n",
        "worksheet[\"B6\"] = \"TEL:03-1234-5678  FAX:03-1234-5678\"\n",
        "\n",
        "worksheet.merge_cells(\"B7:C7\")\n",
        "worksheet[\"B7\"] = \"担当者名: 鈴木一郎 様\"\n",
        "\n",
        "\n",
        "# 4) 発行情報\n",
        "worksheet[\"F4\"] = \"No.\"\n",
        "worksheet[\"G4\"] = \"0001\"\n",
        "\n",
        "worksheet[\"F5\"] = \"日付\"\n",
        "worksheet[\"G5\"] = datetime.today().strftime(\"%Y/%m/%d\")\n",
        "\n",
        "\n",
        "# 5) 見出し行（商品明細の表）\n",
        "headers = [\"商品名\", \"単価\", \"数量\", \"金額\"]\n",
        "for col_index, header_text in enumerate(headers, start=2):  # B=2列目\n",
        "    worksheet.cell(row=10, column=col_index, value=header_text)\n",
        "\n",
        "# 6) 商品明細データ\n",
        "\n",
        "worksheet[\"B11\"] = \"商品A\"\n",
        "worksheet[\"C11\"] = 1000\n",
        "worksheet[\"D11\"] = 3\n",
        "worksheet[\"E11\"] = \"=C11*D11\"\n",
        "\n",
        "worksheet[\"B12\"] = \"商品B\"\n",
        "worksheet[\"C12\"] = 2000\n",
        "worksheet[\"D12\"] = 5\n",
        "worksheet[\"E12\"] = \"=C12*D12\"\n",
        "\n",
        "# 7) 13行目に合計金額\n",
        "worksheet[\"E13\"] = \"=SUM(D7:D8)\"\n",
        "\n",
        "# 7-2) 集計行（B15～B17 / E15～E17）\n",
        "worksheet[\"B15\"] = \"合計\"\n",
        "worksheet[\"E15\"] = 35000\n",
        "\n",
        "worksheet[\"B16\"] = \"消費税\"\n",
        "worksheet[\"E16\"] = 3500\n",
        "\n",
        "worksheet[\"B17\"] = \"税込合計\"\n",
        "worksheet[\"E17\"] = 38500\n",
        "\n",
        "\n",
        "# ファイル保存\n",
        "today_string = datetime.today().strftime(\"%Y%m%d\")\n",
        "file_name = f\"請求書_{today_string}.xlsx\"\n",
        "workbook.save(file_name)\n",
        "\n",
        "\n"
      ],
      "metadata": {
        "id": "cMjj09e0v_qG"
      },
      "execution_count": 5,
      "outputs": []
    },
    {
      "cell_type": "code",
      "source": [],
      "metadata": {
        "id": "ahXrsHi78A4V"
      },
      "execution_count": null,
      "outputs": []
    }
  ]
}